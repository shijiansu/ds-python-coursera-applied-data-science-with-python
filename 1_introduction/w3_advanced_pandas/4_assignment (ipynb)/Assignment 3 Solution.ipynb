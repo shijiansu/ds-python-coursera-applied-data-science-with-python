{
 "cells": [
  {
   "cell_type": "markdown",
   "metadata": {},
   "source": [
    "---\n",
    "\n",
    "_You are currently looking at **version 1.2** of this notebook. To download notebooks and datafiles, as well as get help on Jupyter notebooks in the Coursera platform, visit the [Jupyter Notebook FAQ](https://www.coursera.org/learn/python-data-analysis/resources/0dhYG) course resource._\n",
    "\n",
    "---"
   ]
  },
  {
   "cell_type": "markdown",
   "metadata": {},
   "source": [
    "# Assignment 3 - More Pandas\n",
    "All questions are weighted the same in this assignment. This assignment requires more individual learning then the last one did - you are encouraged to check out the [pandas documentation](http://pandas.pydata.org/pandas-docs/stable/) to find functions or methods you might not have used yet, or ask questions on [Stack Overflow](http://stackoverflow.com/) and tag them as pandas and python related. And of course, the discussion forums are open for interaction with your peers and the course staff."
   ]
  },
  {
   "cell_type": "markdown",
   "metadata": {},
   "source": [
    "### Question 1 (20%)\n",
    "Load the energy data from the file `Energy Indicators.xls`, which is a list of indicators of [energy supply and renewable electricity production](Energy%20Indicators.xls) from the [United Nations](http://unstats.un.org/unsd/environment/excel_file_tables/2013/Energy%20Indicators.xls) for the year 2013, and should be put into a DataFrame with the variable name of **energy**.\n",
    "\n",
    "Keep in mind that this is an Excel file, and not a comma separated values file. Also, make sure to exclude the footer and header information from the datafile. The first two columns are unneccessary, so you should get rid of them, and you should change the column labels so that the columns are:\n",
    "\n",
    "`['Country', 'Energy Supply', 'Energy Supply per Capita', '% Renewable]`\n",
    "\n",
    "Convert `Energy Supply` to gigajoules (there are 1,000,000 gigajoules in a petajoule). For all countries which have missing data (e.g. data with \"...\") make sure this is reflected as `np.NaN` values.\n",
    "\n",
    "Rename the following list of countries (for use in later questions):\n",
    "\n",
    "```\"Republic of Korea\": \"South Korea\",\n",
    "\"United States of America\": \"United States\",\n",
    "\"United Kingdom of Great Britain and Northern Ireland\": \"United Kingdom\",\n",
    "\"China, Hong Kong Special Administrative Region\": \"Hong Kong\"```\n",
    "\n",
    "There are also several countries with parenthesis in their name. Be sure to remove these, e.g. `'Bolivia (Plurinational State of)'` should be `'Bolivia'`.\n",
    "\n",
    "<br>\n",
    "\n",
    "Next, load the GDP data from the file `world_bank.csv`, which is a csv containing countries' GDP from 1960 to 2015 from [World Bank](http://data.worldbank.org/indicator/NY.GDP.MKTP.CD). Call this DataFrame **GDP**. \n",
    "\n",
    "Make sure to skip the header, and rename the following list of countries:\n",
    "\n",
    "```\"Korea, Rep.\": \"South Korea\", \n",
    "\"Iran, Islamic Rep.\": \"Iran\",\n",
    "\"Hong Kong SAR, China\": \"Hong Kong\"```\n",
    "\n",
    "<br>\n",
    "\n",
    "Finally, load the [Sciamgo Journal and Country Rank data for Energy Engineering and Power Technology](http://www.scimagojr.com/countryrank.php?category=2102) from the file `scimagojr-3.xlsx`, which ranks countries based on their journal contributions in the aforementioned area. Call this DataFrame **ScimEn**.\n",
    "\n",
    "Join the three datasets: GDP, Energy, and ScimEn into a new dataset (using the intersection of country names). Use only the last 10 years (2006-2015) of GDP data and only the top 15 countries by Scimagojr 'Rank' (Rank 1 through 15). \n",
    "\n",
    "The index of this DataFrame should be the name of the country, and the columns should be ['Rank', 'Documents', 'Citable documents', 'Citations', 'Self-citations',\n",
    "       'Citations per document', 'H index', 'Energy Supply',\n",
    "       'Energy Supply per Capita', '% Renewable', '2006', '2007', '2008',\n",
    "       '2009', '2010', '2011', '2012', '2013', '2014', '2015'].\n",
    "\n",
    "*This function should return a DataFrame with 20 columns and 15 entries.*"
   ]
  },
  {
   "cell_type": "code",
   "execution_count": 178,
   "metadata": {
    "collapsed": false
   },
   "outputs": [],
   "source": [
    "def get_energy(_debug=False):\n",
    "    if _debug: print('\\nget_energy:')\n",
    "\n",
    "    # Load data\n",
    "    import pandas as pd\n",
    "    # 1. skip header and footer; 2. NaN data is '...'\n",
    "    df1 = pd.read_excel(\"Energy Indicators.xls\", skiprows=17, skipfooter=38, na_values=\"...\")\n",
    "    if _debug: print('Type: {}'.format(type(df1)))  # dataframe\n",
    "\n",
    "    # Correct column names\n",
    "    df1 = df1.drop(df1.columns[[0, 1]], axis=1)  # remove useless columns\n",
    "    df1.rename(columns={df1.columns[0]: 'Country'}, inplace=True)\n",
    "    df1.rename(columns={df1.columns[1]: 'Energy Supply'}, inplace=True)\n",
    "    df1.rename(columns={df1.columns[2]: 'Energy Supply per Capita'}, inplace=True)\n",
    "    df1.rename(columns={df1.columns[3]: '% Renewable'}, inplace=True)\n",
    "\n",
    "    if _debug: print('df1 Columns: {}'.format(df1.columns))\n",
    "\n",
    "    # Clean data\n",
    "    import re\n",
    "    rename_country1 = {\n",
    "        \"Republic of Korea\": \"South Korea\",\n",
    "        \"United States of America\": \"United States\",\n",
    "        \"United Kingdom of Great Britain and Northern Ireland\": \"United Kingdom\",\n",
    "        \"China, Hong Kong Special Administrative Region\": \"Hong Kong\"}\n",
    "\n",
    "    df1['Energy Supply'] *= 1000000\n",
    "\n",
    "    # 理论上DataFrame不应该做循环处理, 看看怎么改进\n",
    "    country = pd.Series(len(df1))  # to set value\n",
    "    for i in range(len(df1)):\n",
    "        row = df1.loc[i, :]\n",
    "\n",
    "        # Rename country name:\n",
    "        # Step 1: remove number. e.g. Greenland7 -> Greenland\n",
    "        country[i] = re.sub(\"\\d\", \"\", row['Country'])\n",
    "\n",
    "        # Step 2: remove (), break the row and only keep index=0\n",
    "        country[i] = country[i].split(' (')[0]\n",
    "\n",
    "        # Step 3: replace name by rename_country\n",
    "        if country[i] in rename_country1.keys():\n",
    "            country[i] = rename_country1.get(country[i])\n",
    "            if _debug: print('{} -> {}'.format(row['Country'], country[i]))\n",
    "    df1['Country'] = country\n",
    "\n",
    "    df1.set_index('Country', inplace=True)\n",
    "    if _debug:\n",
    "        print('df1 Columns: {}'.format(df1.columns))\n",
    "        print(df1.loc['China'])\n",
    "        print(df1.loc['South Korea'])\n",
    "        # print(list(df1.index))\n",
    "    return df1\n",
    "\n",
    "\n",
    "def get_gdp(_debug=False):\n",
    "    if _debug: print('\\nget_gdp:')\n",
    "    # Load data\n",
    "    import pandas as pd\n",
    "    df2 = pd.read_csv('world_bank.csv', skiprows=4, encoding=\"utf8\")\n",
    "    if _debug: print('df2 Columns: {}'.format(df2.columns))\n",
    "\n",
    "    # Only needs country name and last 10 years data\n",
    "    df2 = df2[['Country Name', '2006', '2007', '2008', '2009', '2010', '2011', '2012', '2013', '2014',\n",
    "               '2015']]  # Here is [[]]\n",
    "    df2.rename(columns={'Country Name': 'Country'}, inplace=True)\n",
    "    if _debug: print('df2 Columns: {}'.format(df2.columns))\n",
    "\n",
    "    # Clean data\n",
    "    rename_country2 = {\"Korea, Rep.\": \"South Korea\",\n",
    "                       \"Iran, Islamic Rep.\": \"Iran\",\n",
    "                       \"Hong Kong SAR, China\": \"Hong Kong\"}\n",
    "\n",
    "    country = pd.Series(len(df2))  # to set value\n",
    "    for i in range(len(df2)):\n",
    "        row = df2.iloc[i, :]\n",
    "        # replace name by rename_country\n",
    "        country[i] = row['Country']\n",
    "        if country[i] in rename_country2.keys():\n",
    "            country[i] = rename_country2.get(country[i])\n",
    "            if _debug: print('{} -> {}'.format(row['Country'], country[i]))\n",
    "    df2['Country'] = country\n",
    "\n",
    "    df2.set_index('Country', inplace=True)\n",
    "    if _debug:\n",
    "        print('df2 Columns: {}'.format(df2.columns))\n",
    "        print(df2.loc['China'])\n",
    "        print(df2.loc['South Korea'])\n",
    "        # print(list(df2.index))\n",
    "    return df2\n",
    "\n",
    "\n",
    "def get_rank(_debug=False):\n",
    "    if _debug: print('\\nget_rank:')\n",
    "\n",
    "    # Load data\n",
    "    import pandas as pd\n",
    "    df3 = pd.read_excel(\"scimagojr-3.xlsx\")\n",
    "\n",
    "    if _debug: print('df3 Columns: {}'.format(df3.columns))\n",
    "\n",
    "    df3.set_index('Country', inplace=True)\n",
    "    if _debug:\n",
    "        print('df3 Columns: {}'.format(df3.columns))\n",
    "        # print(list(df3.index))\n",
    "    return df3\n",
    "\n",
    "\n",
    "def answer_one(_debug=False):\n",
    "    energy = get_energy(_debug)\n",
    "    GDP = get_gdp(_debug)\n",
    "    ScimEn = get_rank(_debug)\n",
    "    ScimEn = ScimEn[ScimEn['Rank'] < 16]  # top 15\n",
    "\n",
    "    # left join by the index\n",
    "    import pandas as pd\n",
    "    df = pd.merge(ScimEn, energy, how='inner', left_index=True, right_index=True)\n",
    "    df = pd.merge(df, GDP, how='inner', left_index=True, right_index=True)\n",
    "\n",
    "    if _debug:\n",
    "        print('df Length: {}'.format(len(df)))\n",
    "        print('df Columns: {}'.format(df.columns))\n",
    "        print('{}'.format(df.columns == ['Rank', 'Documents', 'Citable documents', 'Citations', 'Self-citations',\n",
    "                                         'Citations per document', 'H index', 'Energy Supply',\n",
    "                                         'Energy Supply per Capita', '% Renewable', '2006', '2007', '2008',\n",
    "                                         '2009', '2010', '2011', '2012', '2013', '2014', '2015']))\n",
    "        # print(df)\n",
    "    return df"
   ]
  },
  {
   "cell_type": "markdown",
   "metadata": {},
   "source": [
    "### Question 2 (6.6%)\n",
    "The previous question joined three datasets then reduced this to just the top 15 entries. When you joined the datasets, but before you reduced this to the top 15 items, how many entries did you lose?\n",
    "\n",
    "*This function should return a single number.*"
   ]
  },
  {
   "cell_type": "code",
   "execution_count": 179,
   "metadata": {
    "collapsed": false
   },
   "outputs": [
    {
     "data": {
      "text/html": [
       "<svg width=\"800\" height=\"300\">\n",
       "  <circle cx=\"150\" cy=\"180\" r=\"80\" fill-opacity=\"0.2\" stroke=\"black\" stroke-width=\"2\" fill=\"blue\" />\n",
       "  <circle cx=\"200\" cy=\"100\" r=\"80\" fill-opacity=\"0.2\" stroke=\"black\" stroke-width=\"2\" fill=\"red\" />\n",
       "  <circle cx=\"100\" cy=\"100\" r=\"80\" fill-opacity=\"0.2\" stroke=\"black\" stroke-width=\"2\" fill=\"green\" />\n",
       "  <line x1=\"150\" y1=\"125\" x2=\"300\" y2=\"150\" stroke=\"black\" stroke-width=\"2\" fill=\"black\" stroke-dasharray=\"5,3\"/>\n",
       "  <text  x=\"300\" y=\"165\" font-family=\"Verdana\" font-size=\"35\">Everything but this!</text>\n",
       "</svg>"
      ],
      "text/plain": [
       "<IPython.core.display.HTML object>"
      ]
     },
     "metadata": {},
     "output_type": "display_data"
    }
   ],
   "source": [
    "%%HTML\n",
    "<svg width=\"800\" height=\"300\">\n",
    "  <circle cx=\"150\" cy=\"180\" r=\"80\" fill-opacity=\"0.2\" stroke=\"black\" stroke-width=\"2\" fill=\"blue\" />\n",
    "  <circle cx=\"200\" cy=\"100\" r=\"80\" fill-opacity=\"0.2\" stroke=\"black\" stroke-width=\"2\" fill=\"red\" />\n",
    "  <circle cx=\"100\" cy=\"100\" r=\"80\" fill-opacity=\"0.2\" stroke=\"black\" stroke-width=\"2\" fill=\"green\" />\n",
    "  <line x1=\"150\" y1=\"125\" x2=\"300\" y2=\"150\" stroke=\"black\" stroke-width=\"2\" fill=\"black\" stroke-dasharray=\"5,3\"/>\n",
    "  <text  x=\"300\" y=\"165\" font-family=\"Verdana\" font-size=\"35\">Everything but this!</text>\n",
    "</svg>"
   ]
  },
  {
   "cell_type": "code",
   "execution_count": 180,
   "metadata": {
    "collapsed": false
   },
   "outputs": [],
   "source": [
    "def answer_two():\n",
    "    energy = get_energy()\n",
    "    GDP = get_gdp()\n",
    "    ScimEn = get_rank()\n",
    "    print('Length: energy={}, GDP={}, ScimEn={}'.format(len(energy), len(GDP), len(ScimEn)))\n",
    "    # Length: energy = 227, GDP = 264, ScimEn = 191\n",
    "\n",
    "    # outer join by index\n",
    "    import pandas as pd\n",
    "    df_inner = pd.merge(energy, GDP, how='inner', left_index=True, right_index=True)\n",
    "    df_inner = pd.merge(df_inner, ScimEn, how='inner', left_index=True, right_index=True)\n",
    "\n",
    "    df_outer = pd.merge(energy, GDP, how='outer', left_index=True, right_index=True)\n",
    "    df_outer = pd.merge(df_outer, ScimEn, how='outer', left_index=True, right_index=True)\n",
    "\n",
    "    # print(list(df_outer.index))\n",
    "    return df_outer.shape[0] - df_inner.shape[0]"
   ]
  },
  {
   "cell_type": "markdown",
   "metadata": {},
   "source": [
    "### Question 3 (6.6%)\n",
    "What are the top 15 countries for average GDP over the last 10 years?\n",
    "\n",
    "*This function should return a Series named `avgGDP` with 15 countries and their average GDP sorted in descending order.*"
   ]
  },
  {
   "cell_type": "code",
   "execution_count": 181,
   "metadata": {
    "collapsed": false,
    "scrolled": true
   },
   "outputs": [],
   "source": [
    "def answer_three():\n",
    "    Top15 = answer_one()\n",
    "    years = ['2006', '2007', '2008', '2009', '2010', '2011', '2012', '2013', '2014', '2015']\n",
    "    return Top15[years].mean(axis=1).sort_values(ascending=False)"
   ]
  },
  {
   "cell_type": "markdown",
   "metadata": {},
   "source": [
    "### Question 4 (6.6%)\n",
    "By how much had the GDP changed over the 10 year span for the country with the 6th largest average GDP?\n",
    "\n",
    "*This function should return a single number.*"
   ]
  },
  {
   "cell_type": "code",
   "execution_count": 182,
   "metadata": {
    "collapsed": false,
    "scrolled": true
   },
   "outputs": [],
   "source": [
    "def answer_four():\n",
    "    Top15_avg = answer_three()\n",
    "    Top6_country = Top15_avg.index[5]  # index start at 0\n",
    "    print(Top6_country)  # United Kingdom\n",
    "\n",
    "    Top15 = answer_one()\n",
    "    Top6 = Top15.loc[Top6_country]\n",
    "    diff = Top6['2015'] - Top6['2006']\n",
    "    print(type(diff))  # <type 'numpy.float64'>\n",
    "    return diff"
   ]
  },
  {
   "cell_type": "markdown",
   "metadata": {},
   "source": [
    "### Question 5 (6.6%)\n",
    "What is the mean energy supply per capita?\n",
    "\n",
    "*This function should return a single number.*"
   ]
  },
  {
   "cell_type": "code",
   "execution_count": 183,
   "metadata": {
    "collapsed": false
   },
   "outputs": [],
   "source": [
    "def answer_five():\n",
    "    Top15 = answer_one()\n",
    "    return Top15['Energy Supply per Capita'].mean(axis=0)"
   ]
  },
  {
   "cell_type": "markdown",
   "metadata": {},
   "source": [
    "### Question 6 (6.6%)\n",
    "What country has the maximum % Renewable and what is the percentage?\n",
    "\n",
    "*This function should return a tuple with the name of the country and the percentage.*"
   ]
  },
  {
   "cell_type": "code",
   "execution_count": 184,
   "metadata": {
    "collapsed": false
   },
   "outputs": [],
   "source": [
    "def answer_six():\n",
    "    Top15 = answer_one()\n",
    "    max_country = Top15['% Renewable'].argmax()\n",
    "    country = Top15.loc[max_country]\n",
    "    return max_country, country['% Renewable']"
   ]
  },
  {
   "cell_type": "markdown",
   "metadata": {},
   "source": [
    "### Question 7 (6.6%)\n",
    "Create a new column that is the ratio of Self-Citations to Total Citations. \n",
    "What is the maximum value for this new column, and what country has the highest ratio?\n",
    "\n",
    "*This function should return a tuple with the name of the country and the ratio.*"
   ]
  },
  {
   "cell_type": "code",
   "execution_count": 185,
   "metadata": {
    "collapsed": false
   },
   "outputs": [],
   "source": [
    "def answer_seven():\n",
    "    Top15 = answer_one()\n",
    "    Top15['Ratio'] = Top15['Self-citations'] / Top15['Citations']\n",
    "    max_country = Top15['Ratio'].argmax()\n",
    "    country = Top15.loc[max_country]\n",
    "    return max_country, country['Ratio']"
   ]
  },
  {
   "cell_type": "markdown",
   "metadata": {},
   "source": [
    "### Question 8 (6.6%)\n",
    "\n",
    "Create a column that estimates the population using Energy Supply and Energy Supply per capita. \n",
    "What is the third most populous country according to this estimate?\n",
    "\n",
    "*This function should return a single string value.*"
   ]
  },
  {
   "cell_type": "code",
   "execution_count": 186,
   "metadata": {
    "collapsed": false
   },
   "outputs": [],
   "source": [
    "def answer_eight():\n",
    "    Top15 = answer_one()\n",
    "    Top15['Population'] = Top15['Energy Supply'] / Top15['Energy Supply per Capita']\n",
    "    return Top15['Population'].sort_values(ascending=False).index[2]"
   ]
  },
  {
   "cell_type": "markdown",
   "metadata": {},
   "source": [
    "### Question 9\n",
    "Create a column that estimates the number of citable documents per person. \n",
    "What is the correlation between the number of citable documents per capita and the energy supply per capita? Use the `.corr()` method, (Pearson's correlation).\n",
    "\n",
    "*This function should return a single number.*\n",
    "\n",
    "*(Optional: Use the built-in function `plot9()` to visualize the relationship between Energy Supply per Capita vs. Citable docs per Capita)*"
   ]
  },
  {
   "cell_type": "code",
   "execution_count": 187,
   "metadata": {
    "collapsed": false
   },
   "outputs": [],
   "source": [
    "def answer_nine():\n",
    "    Top15 = answer_one()\n",
    "    Top15['Population'] = Top15['Energy Supply'] / Top15['Energy Supply per Capita']\n",
    "    Top15['Citable documents per Capita'] = Top15['Citable documents'] / Top15['Population']\n",
    "    return Top15['Citable documents per Capita'].corr(Top15['Energy Supply per Capita'])"
   ]
  },
  {
   "cell_type": "code",
   "execution_count": 188,
   "metadata": {
    "collapsed": false
   },
   "outputs": [],
   "source": [
    "def plot9():\n",
    "    import matplotlib as plt\n",
    "    %matplotlib inline\n",
    "    \n",
    "    Top15 = answer_one()\n",
    "    Top15['PopEst'] = Top15['Energy Supply'] / Top15['Energy Supply per Capita']\n",
    "    Top15['Citable docs per Capita'] = Top15['Citable documents'] / Top15['PopEst']\n",
    "    Top15.plot(x='Citable docs per Capita', y='Energy Supply per Capita', kind='scatter', xlim=[0, 0.0006])"
   ]
  },
  {
   "cell_type": "code",
   "execution_count": 189,
   "metadata": {
    "collapsed": false
   },
   "outputs": [],
   "source": [
    "#plot9() # Be sure to comment out plot9() before submitting the assignment!"
   ]
  },
  {
   "cell_type": "markdown",
   "metadata": {},
   "source": [
    "### Question 10 (6.6%)\n",
    "Create a new column with a 1 if the country's % Renewable value is at or above the median for all countries in the top 15, and a 0 if the country's % Renewable value is below the median.\n",
    "\n",
    "*This function should return a series named `HighRenew` whose index is the country name sorted in ascending order of rank.*"
   ]
  },
  {
   "cell_type": "code",
   "execution_count": 190,
   "metadata": {
    "collapsed": false
   },
   "outputs": [],
   "source": [
    "def answer_ten():\n",
    "    Top15 = answer_one()\n",
    "    median = Top15['% Renewable'].median()  # 17.02028\n",
    "    Top15['HighRenew'] = [1 if x >= median else 0 for x in Top15['% Renewable']]\n",
    "    return Top15['HighRenew']"
   ]
  },
  {
   "cell_type": "markdown",
   "metadata": {},
   "source": [
    "### Question 11 (6.6%)\n",
    "Use the following dictionary to group the Countries by Continent, then create a dateframe that displays the sample size (the number of countries in each continent bin), and the sum, mean, and std deviation for the estimated population of each country.\n",
    "\n",
    "```python\n",
    "ContinentDict  = {'China':'Asia', \n",
    "                  'United States':'North America', \n",
    "                  'Japan':'Asia', \n",
    "                  'United Kingdom':'Europe', \n",
    "                  'Russian Federation':'Europe', \n",
    "                  'Canada':'North America', \n",
    "                  'Germany':'Europe', \n",
    "                  'India':'Asia',\n",
    "                  'France':'Europe', \n",
    "                  'South Korea':'Asia', \n",
    "                  'Italy':'Europe', \n",
    "                  'Spain':'Europe', \n",
    "                  'Iran':'Asia',\n",
    "                  'Australia':'Australia', \n",
    "                  'Brazil':'South America'}\n",
    "```\n",
    "\n",
    "*This function should return a DataFrame with index named Continent `['Asia', 'Australia', 'Europe', 'North America', 'South America']` and columns `['size', 'sum', 'mean', 'std']`*"
   ]
  },
  {
   "cell_type": "code",
   "execution_count": 191,
   "metadata": {
    "collapsed": false
   },
   "outputs": [],
   "source": [
    "def answer_eleven():\n",
    "    Top15 = answer_one()\n",
    "    ContinentDict = {'China': 'Asia',\n",
    "                     'United States': 'North America',\n",
    "                     'Japan': 'Asia',\n",
    "                     'United Kingdom': 'Europe',\n",
    "                     'Russian Federation': 'Europe',\n",
    "                     'Canada': 'North America',\n",
    "                     'Germany': 'Europe',\n",
    "                     'India': 'Asia',\n",
    "                     'France': 'Europe',\n",
    "                     'South Korea': 'Asia',\n",
    "                     'Italy': 'Europe',\n",
    "                     'Spain': 'Europe',\n",
    "                     'Iran': 'Asia',\n",
    "                     'Australia': 'Australia',\n",
    "                     'Brazil': 'South America'}\n",
    "    Top15['Continent'] = [ContinentDict[x] for x in Top15.index]\n",
    "\n",
    "    # init\n",
    "    continents = sorted(set(ContinentDict.values()))\n",
    "    columns = ['size', 'sum', 'mean', 'std']\n",
    "    import pandas as pd\n",
    "    df = pd.DataFrame(\n",
    "        [pd.Series() * len(continents)], index=continents, columns=columns)\n",
    "\n",
    "    # population\n",
    "    Top15['Population'] = Top15['Energy Supply'] / Top15['Energy Supply per Capita']\n",
    "    for c in continents:\n",
    "        population_of_country_in_continent = Top15[Top15['Continent'] == c]['Population']\n",
    "        df.set_value(c, ['size'], population_of_country_in_continent.count())\n",
    "        df.set_value(c, ['sum'], population_of_country_in_continent.sum())\n",
    "        df.set_value(c, ['mean'], population_of_country_in_continent.mean())\n",
    "        df.set_value(c, ['std'], population_of_country_in_continent.std())\n",
    "    return df"
   ]
  },
  {
   "cell_type": "markdown",
   "metadata": {},
   "source": [
    "### Question 12 (6.6%)\n",
    "Cut % Renewable into 5 bins. Group Top15 by the Continent, as well as these new % Renewable bins. How many countries are in each of these groups?\n",
    "\n",
    "*This function should return a Series with a MultiIndex of `Continent`, then the bins for `% Renewable`. Do not include groups with no countries.*"
   ]
  },
  {
   "cell_type": "code",
   "execution_count": 192,
   "metadata": {
    "collapsed": false,
    "scrolled": true
   },
   "outputs": [],
   "source": [
    "def answer_twelve():\n",
    "    Top15 = answer_one()\n",
    "\n",
    "    # % Renewable bin\n",
    "    import pandas as pd\n",
    "    Top15['bins for % Renewable'] = pd.cut(Top15['% Renewable'], 5)\n",
    "\n",
    "    # continent\n",
    "    ContinentDict = {'China': 'Asia',\n",
    "                     'United States': 'North America',\n",
    "                     'Japan': 'Asia',\n",
    "                     'United Kingdom': 'Europe',\n",
    "                     'Russian Federation': 'Europe',\n",
    "                     'Canada': 'North America',\n",
    "                     'Germany': 'Europe',\n",
    "                     'India': 'Asia',\n",
    "                     'France': 'Europe',\n",
    "                     'South Korea': 'Asia',\n",
    "                     'Italy': 'Europe',\n",
    "                     'Spain': 'Europe',\n",
    "                     'Iran': 'Asia',\n",
    "                     'Australia': 'Australia',\n",
    "                     'Brazil': 'South America'}\n",
    "    Top15['Continent'] = [ContinentDict[x] for x in Top15.index]\n",
    "\n",
    "    Top15 = Top15.reset_index()\n",
    "    import numpy as np\n",
    "    df = Top15.groupby(['Continent', 'bins for % Renewable']).agg({'Country': np.count_nonzero})\n",
    "    # print(df)\n",
    "    #                                     Country\n",
    "    # Continent     bins for % Renewable\n",
    "    # Asia          (2.212, 15.753]             4\n",
    "    #               (15.753, 29.227]            1\n",
    "    # Australia     (2.212, 15.753]             1\n",
    "    # Europe        (2.212, 15.753]             1\n",
    "    #               (15.753, 29.227]            3\n",
    "    #               (29.227, 42.701]            2\n",
    "    # North America (2.212, 15.753]             1\n",
    "    #               (56.174, 69.648]            1\n",
    "    # South America (56.174, 69.648]            1\n",
    "    return df.T.iloc[0]  # convert dataframe vector to series"
   ]
  },
  {
   "cell_type": "markdown",
   "metadata": {},
   "source": [
    "### Question 13 (6.6%)\n",
    "Convert the Population Estimate series to a string with thousands separator (using commas). Use all significant digits (do not round the results).\n",
    "\n",
    "e.g. 12345678.90 -> 12,345,678.90\n",
    "\n",
    "*This function should return a Series `PopEst` whose index is the country name and whose values are the population estimate string.*"
   ]
  },
  {
   "cell_type": "code",
   "execution_count": 193,
   "metadata": {
    "collapsed": false,
    "scrolled": true
   },
   "outputs": [],
   "source": [
    "def answer_thirteen():\n",
    "    Top15 = answer_one()\n",
    "    Top15['Population'] = Top15['Energy Supply'] / Top15['Energy Supply per Capita']\n",
    "    return Top15['Population'].apply(lambda x: \"{:,}\".format(x))"
   ]
  },
  {
   "cell_type": "markdown",
   "metadata": {},
   "source": [
    "### Optional\n",
    "\n",
    "Use the built in function `plot_optional()` to see an example visualization."
   ]
  },
  {
   "cell_type": "code",
   "execution_count": 194,
   "metadata": {
    "collapsed": false,
    "scrolled": true
   },
   "outputs": [],
   "source": [
    "def plot_optional():\n",
    "    import matplotlib as plt\n",
    "    %matplotlib inline\n",
    "    Top15 = answer_one()\n",
    "    ax = Top15.plot(x='Rank', y='% Renewable', kind='scatter', \n",
    "                    c=['#e41a1c','#377eb8','#e41a1c','#4daf4a','#4daf4a','#377eb8','#4daf4a','#e41a1c',\n",
    "                       '#4daf4a','#e41a1c','#4daf4a','#4daf4a','#e41a1c','#dede00','#ff7f00'], \n",
    "                    xticks=range(1,16), s=6*Top15['2014']/10**10, alpha=.75, figsize=[16,6]);\n",
    "\n",
    "    for i, txt in enumerate(Top15.index):\n",
    "        ax.annotate(txt, [Top15['Rank'][i], Top15['% Renewable'][i]], ha='center')\n",
    "\n",
    "    print(\"This is an example of a visualization that can be created to help understand the data. \\\n",
    "This is a bubble chart showing % Renewable vs. Rank. The size of the bubble corresponds to the countries' \\\n",
    "2014 GDP, and the color corresponds to the continent.\")"
   ]
  },
  {
   "cell_type": "code",
   "execution_count": 195,
   "metadata": {
    "collapsed": false
   },
   "outputs": [],
   "source": [
    "#plot_optional() # Be sure to comment out plot_optional() before submitting the assignment!"
   ]
  }
 ],
 "metadata": {
  "anaconda-cloud": {},
  "coursera": {
   "course_slug": "python-data-analysis",
   "graded_item_id": "zAr06",
   "launcher_item_id": "KSSjT",
   "part_id": "SL3fU"
  },
  "kernelspec": {
   "display_name": "Python 3",
   "language": "python",
   "name": "python3"
  },
  "language_info": {
   "codemirror_mode": {
    "name": "ipython",
    "version": 3
   },
   "file_extension": ".py",
   "mimetype": "text/x-python",
   "name": "python",
   "nbconvert_exporter": "python",
   "pygments_lexer": "ipython3",
   "version": "3.5.2"
  }
 },
 "nbformat": 4,
 "nbformat_minor": 0
}
