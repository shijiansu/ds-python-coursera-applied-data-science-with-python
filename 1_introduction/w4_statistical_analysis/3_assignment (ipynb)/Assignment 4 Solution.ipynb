{
 "cells": [
  {
   "cell_type": "markdown",
   "metadata": {},
   "source": [
    "---\n",
    "\n",
    "_You are currently looking at **version 1.0** of this notebook. To download notebooks and datafiles, as well as get help on Jupyter notebooks in the Coursera platform, visit the [Jupyter Notebook FAQ](https://www.coursera.org/learn/python-data-analysis/resources/0dhYG) course resource._\n",
    "\n",
    "---"
   ]
  },
  {
   "cell_type": "code",
   "execution_count": 1,
   "metadata": {
    "collapsed": true
   },
   "outputs": [],
   "source": [
    "import pandas as pd\n",
    "import numpy as np\n",
    "from scipy.stats import ttest_ind"
   ]
  },
  {
   "cell_type": "markdown",
   "metadata": {},
   "source": [
    "# Assignment 4 - Hypothesis Testing\n",
    "This assignment requires more individual learning than previous assignments - you are encouraged to check out the [pandas documentation](http://pandas.pydata.org/pandas-docs/stable/) to find functions or methods you might not have used yet, or ask questions on [Stack Overflow](http://stackoverflow.com/) and tag them as pandas and python related. And of course, the discussion forums are open for interaction with your peers and the course staff.\n",
    "\n",
    "Definitions:\n",
    "* A _quarter_ is a specific three month period, Q1 is January through March, Q2 is April through June, Q3 is July through September, Q4 is October through December.\n",
    "* A _recession_ is defined as starting with two consecutive quarters of GDP decline, and ending with two consecutive quarters of GDP growth.\n",
    "* A _recession bottom_ is the quarter within a recession which had the lowest GDP.\n",
    "* A _university town_ is a city which has a high percentage of university students compared to the total population of the city.\n",
    "\n",
    "**Hypothesis**: University towns have their mean housing prices less effected by recessions. Run a t-test to compare the ratio of the mean price of houses in university towns the quarter before the recession starts compared to the recession bottom. (`price_ratio=quarter_before_recession/recession_bottom`)\n",
    "\n",
    "The following data files are available for this assignment:\n",
    "* From the [Zillow research data site](http://www.zillow.com/research/data/) there is housing data for the United States. In particular the datafile for [all homes at a city level](http://files.zillowstatic.com/research/public/City/City_Zhvi_AllHomes.csv), ```City_Zhvi_AllHomes.csv```, has median home sale prices at a fine grained level.\n",
    "* From the Wikipedia page on college towns is a list of [university towns in the United States](https://en.wikipedia.org/wiki/List_of_college_towns#College_towns_in_the_United_States) which has been copy and pasted into the file ```university_towns.txt```.\n",
    "* From Bureau of Economic Analysis, US Department of Commerce, the [GDP over time](http://www.bea.gov/national/index.htm#gdp) of the United States in current dollars (use the chained value in 2009 dollars), in quarterly intervals, in the file ```gdplev.xls```. For this assignment, only look at GDP data from the first quarter of 2000 onward.\n",
    "\n",
    "Each function in this assignment below is worth 10%, with the exception of ```run_ttest()```, which is worth 50%."
   ]
  },
  {
   "cell_type": "code",
   "execution_count": 2,
   "metadata": {
    "collapsed": false
   },
   "outputs": [],
   "source": [
    "# Use this dictionary to map state names to two letter acronyms\n",
    "states = {'OH': 'Ohio', 'KY': 'Kentucky', 'AS': 'American Samoa', 'NV': 'Nevada', 'WY': 'Wyoming', 'NA': 'National', 'AL': 'Alabama', 'MD': 'Maryland', 'AK': 'Alaska', 'UT': 'Utah', 'OR': 'Oregon', 'MT': 'Montana', 'IL': 'Illinois', 'TN': 'Tennessee', 'DC': 'District of Columbia', 'VT': 'Vermont', 'ID': 'Idaho', 'AR': 'Arkansas', 'ME': 'Maine', 'WA': 'Washington', 'HI': 'Hawaii', 'WI': 'Wisconsin', 'MI': 'Michigan', 'IN': 'Indiana', 'NJ': 'New Jersey', 'AZ': 'Arizona', 'GU': 'Guam', 'MS': 'Mississippi', 'PR': 'Puerto Rico', 'NC': 'North Carolina', 'TX': 'Texas', 'SD': 'South Dakota', 'MP': 'Northern Mariana Islands', 'IA': 'Iowa', 'MO': 'Missouri', 'CT': 'Connecticut', 'WV': 'West Virginia', 'SC': 'South Carolina', 'LA': 'Louisiana', 'KS': 'Kansas', 'NY': 'New York', 'NE': 'Nebraska', 'OK': 'Oklahoma', 'FL': 'Florida', 'CA': 'California', 'CO': 'Colorado', 'PA': 'Pennsylvania', 'DE': 'Delaware', 'NM': 'New Mexico', 'RI': 'Rhode Island', 'MN': 'Minnesota', 'VI': 'Virgin Islands', 'NH': 'New Hampshire', 'MA': 'Massachusetts', 'GA': 'Georgia', 'ND': 'North Dakota', 'VA': 'Virginia'}"
   ]
  },
  {
   "cell_type": "code",
   "execution_count": 3,
   "metadata": {
    "collapsed": false
   },
   "outputs": [],
   "source": [
    "def get_list_of_university_towns():\n",
    "    import numpy as np\n",
    "    import pandas as pd\n",
    "    '''Returns a DataFrame of towns and the states they are in from the\n",
    "    university_towns.txt list. The format of the DataFrame should be:\n",
    "    DataFrame( [ [\"Michigan\",\"Ann Arbor\"], [\"Michigan\", \"Yipsilanti\"] ],\n",
    "    columns=[\"State\",\"RegionName\"]  )'''\n",
    "    df = pd.read_csv('university_towns.txt', dtype=str, delimiter='|', header=None)\n",
    "\n",
    "    import re\n",
    "    df = df.apply(lambda x: re.sub(' \\(.*', '', x[0]), axis=1)  # x is Series data type\n",
    "\n",
    "    index = 0\n",
    "    state_region = []\n",
    "    current_state = ''\n",
    "    for i in range(len(df)):\n",
    "        name = df.iloc[i]\n",
    "        # get the state name, and skip to next line\n",
    "        if \"[edit]\" in name:\n",
    "            current_state = name.replace('[edit]', '')\n",
    "            continue\n",
    "        # construct one line of data frame\n",
    "        state_region.append(pd.Series({'State': current_state, 'RegionName': name}))\n",
    "        index += 1\n",
    "    # convert\n",
    "    df_final = pd.DataFrame(state_region, index=range(len(state_region)), columns=['State', 'RegionName'])\n",
    "    return df_final"
   ]
  },
  {
   "cell_type": "code",
   "execution_count": 4,
   "metadata": {
    "collapsed": false
   },
   "outputs": [],
   "source": [
    "def get_gdp():\n",
    "    import pandas as pd\n",
    "    # Load data\n",
    "    df = pd.read_excel(\"gdplev.xls\", skiprows=5)\n",
    "    df = df.iloc[2:, 4:-1]\n",
    "    df.index -= 2  # 使index从0开始\n",
    "    df.columns = ['Year_Quarter', 'Current', '2009']\n",
    "    return df\n",
    "\n",
    "\n",
    "def get_recession_start():\n",
    "    '''Returns the year and quarter of the recession start time as a\n",
    "    string value in a format such as 2005q3'''\n",
    "    df = get_gdp()\n",
    "    # only look at GDP data from the first quarter of 2000 onward\n",
    "    _2000q1 = df[df['Year_Quarter'] == '2000q1'].index[0]\n",
    "\n",
    "    gdp = df['Current']\n",
    "    for i in range(_2000q1, len(df)):\n",
    "        if (gdp[i] < gdp[i - 1]) and (gdp[i - 1] < gdp[i - 2]):\n",
    "            # print df.loc[i, 'Year_Quarter']\n",
    "            # get back to 2 Q ago...\n",
    "            start = df.loc[i - 2, 'Year_Quarter']\n",
    "            break\n",
    "    return start"
   ]
  },
  {
   "cell_type": "code",
   "execution_count": 5,
   "metadata": {
    "collapsed": false
   },
   "outputs": [],
   "source": [
    "def get_recession_end():\n",
    "    df = get_gdp()\n",
    "    # only look at GDP data from the first quarter of 2000 onward\n",
    "    start = get_recession_start()\n",
    "    start = df[df['Year_Quarter'] == start].index[0] + 2\n",
    "\n",
    "    gdp = df['Current']\n",
    "    for i in range(start, len(df)):\n",
    "        if (gdp[i] > gdp[i - 1]) and (gdp[i - 1] > gdp[i - 2]):\n",
    "            end = df.loc[i, 'Year_Quarter']\n",
    "            break\n",
    "    return end"
   ]
  },
  {
   "cell_type": "code",
   "execution_count": 6,
   "metadata": {
    "collapsed": false
   },
   "outputs": [],
   "source": [
    "def get_recession_bottom():\n",
    "    '''Returns the year and quarter of the recession bottom time as a\n",
    "    string value in a format such as 2005q3'''\n",
    "    df = get_gdp()\n",
    "    df = df.set_index('Year_Quarter')\n",
    "\n",
    "    start = get_recession_start()\n",
    "    end = get_recession_end()\n",
    "    bottom = df.loc[start: end]['Current'].argmin()\n",
    "    return bottom"
   ]
  },
  {
   "cell_type": "code",
   "execution_count": 7,
   "metadata": {
    "collapsed": false
   },
   "outputs": [],
   "source": [
    "def convert_housing_data_to_quarters():\n",
    "    '''Converts the housing data to quarters and returns it as mean\n",
    "    values in a dataframe. This dataframe should be a dataframe with\n",
    "    columns for 2000q1 through 2016q3, and should have a multi-index\n",
    "    in the shape of [\"State\",\"RegionName\"].\n",
    "\n",
    "    Note: Quarters are defined in the assignment description, they are\n",
    "    not arbitrary three month periods.\n",
    "\n",
    "    The resulting dataframe should have 67 columns, and 10,730 rows.\n",
    "    '''\n",
    "    # Load data\n",
    "    import pandas as pd\n",
    "    df = pd.read_csv('City_Zhvi_AllHomes.csv')\n",
    "\n",
    "    # replace to state name by mapping\n",
    "    df['State'] = df['State'].apply(lambda x: states.get(x))\n",
    "\n",
    "    print(df.columns)\n",
    "    df['2016-09'] = (df['2016-07'] + df['2016-08']).mean()\n",
    "    years = df.columns[6:]  # ignore region name, state, etc.\n",
    "    years = [int(x.replace('-', '')) for x in years]  # convert into a number\n",
    "    _2000 = [x for x in years if x > 200000]  # filter only > 200001\n",
    "    _2000 = [str(x // 100) + '-' + str(x % 100).zfill(2) for x in _2000 if x > 200000]  # convert to df column name\n",
    "\n",
    "    df_final = pd.DataFrame()\n",
    "    df_final['State'] = df['State']\n",
    "    df_final['RegionName'] = df['RegionName']\n",
    "    for i in range(0, len(_2000), 3):\n",
    "        y = _2000[i].split('-')  # 2000-01 -> 2000, 01\n",
    "        new_column = y[0] + 'q' + str((int(y[1]) // 3) + 1) # (int('01')//3) + 1 = 1//3 + 1 = 1\n",
    "        df_final[new_column] = df[[_2000[i], _2000[i + 1], _2000[i + 2]]].mean(axis=1)\n",
    "\n",
    "    df_final.set_index(['State', 'RegionName'], inplace=True)\n",
    "    return df_final"
   ]
  },
  {
   "cell_type": "code",
   "execution_count": 8,
   "metadata": {
    "collapsed": false
   },
   "outputs": [],
   "source": [
    "def run_ttest():\n",
    "    '''First creates new data showing the decline or growth of housing prices\n",
    "    between the recession start and the recession bottom. Then runs a ttest\n",
    "    comparing the university town values to the non-university towns values,\n",
    "    return whether the alternative hypothesis (that the two groups are the same)\n",
    "    is true or not as well as the p-value of the confidence.\n",
    "\n",
    "    Return the tuple (different, p, better) where different=True if the t-test is\n",
    "    True at a p<0.01 (we reject the null hypothesis), or different=False if\n",
    "    otherwise (we cannot reject the null hypothesis). The variable p should\n",
    "    be equal to the exact p value returned from scipy.stats.ttest_ind(). The\n",
    "    value for better should be either \"university town\" or \"non-university town\"\n",
    "    depending on which has a lower mean price ratio (which is equivilent to a\n",
    "    reduced market loss).'''\n",
    "    # Load data\n",
    "    uni_towns = get_list_of_university_towns()\n",
    "    prices = convert_housing_data_to_quarters()\n",
    "\n",
    "    # get related years\n",
    "    start = get_recession_start()\n",
    "    years = prices.columns\n",
    "    before = years[years.tolist().index(start) - 1]\n",
    "    bottom = get_recession_bottom()\n",
    "    print('year quarter start recession: {}, before recession: {}, recession bottom: {}'.format(start, before, bottom))\n",
    "    # year quarter start recession: 2008q3, before recession: 2008q2, recession bottom: 2009q2\n",
    "\n",
    "    # according to the Hypothesis description\n",
    "    prices['PriceRatio'] = prices[before] / prices[bottom]\n",
    "\n",
    "    # tell which group\n",
    "    uni_towns['UniversityInd'] = 1\n",
    "    uni_towns.set_index(['State', 'RegionName'], inplace=True)\n",
    "    import pandas as pd\n",
    "    prices = pd.merge(prices, uni_towns, how='left', left_index=True, right_index=True)\n",
    "    prices['UniversityInd'] = prices['UniversityInd'].fillna(0)\n",
    "\n",
    "    # get 2 t-test data set\n",
    "    df_ut = prices[prices['UniversityInd'] == 1]\n",
    "    df_ut = df_ut.dropna()\n",
    "    # print df_ut['PriceRatio']\n",
    "\n",
    "    df_nut = prices[prices['UniversityInd'] == 0]\n",
    "    df_nut = df_nut.dropna()\n",
    "    # print df_nut['PriceRatio']\n",
    "\n",
    "    from scipy.stats import ttest_ind\n",
    "    t_test_result = ttest_ind(df_ut['PriceRatio'], df_nut['PriceRatio'])\n",
    "    p = t_test_result[1]\n",
    "    different = p < 0.01\n",
    "    if df_ut['PriceRatio'].mean() <= df_nut['PriceRatio'].mean():\n",
    "        better = 'university town'\n",
    "    else:\n",
    "        better = 'non-university town'\n",
    "    return different, p, better\n"
   ]
  }
 ],
 "metadata": {
  "coursera": {
   "course_slug": "python-data-analysis",
   "graded_item_id": "Il9Fx",
   "launcher_item_id": "TeDW0",
   "part_id": "WGlun"
  },
  "kernelspec": {
   "display_name": "Python 3",
   "language": "python",
   "name": "python3"
  },
  "language_info": {
   "codemirror_mode": {
    "name": "ipython",
    "version": 3
   },
   "file_extension": ".py",
   "mimetype": "text/x-python",
   "name": "python",
   "nbconvert_exporter": "python",
   "pygments_lexer": "ipython3",
   "version": "3.5.2"
  }
 },
 "nbformat": 4,
 "nbformat_minor": 0
}
